{
 "cells": [
  {
   "cell_type": "code",
   "execution_count": 8,
   "metadata": {},
   "outputs": [
    {
     "name": "stdout",
     "output_type": "stream",
     "text": [
      "The autoreload extension is already loaded. To reload it, use:\n",
      "  %reload_ext autoreload\n"
     ]
    }
   ],
   "source": [
    "%load_ext autoreload\n",
    "%autoreload 2"
   ]
  },
  {
   "cell_type": "code",
   "execution_count": 15,
   "metadata": {},
   "outputs": [],
   "source": [
    "from tqdm import tqdm \n",
    "import numpy as np\n",
    "\n",
    "from committee_learning.time_measure import expected_exit_time\n",
    "from committee_learning.initial_conditions import RandomNormalInitialConditions\n",
    "from committee_learning.simulation import NormalizedSphericalConstraintSimulation\n",
    "from committee_learning.result import FullODEResult\n",
    "from committee_learning.ode import SphericalSquaredActivationODE\n",
    "\n",
    "from committee_learning.time_measure import exit_time\n",
    "\n",
    "from committee_learning.sde.generalized_phase_retrieval import SphericalGeneralizedPhaseRetrievalSDE\n",
    "\n",
    "n_ids = 10 # This is the number of samples used for the time measure.\n",
    "# This is just an example that should run fast; 10 is too small for an accurate measure.\n",
    "save_per_decade = 5000\n",
    "log_time = 1\n",
    "noise = 1e-4\n",
    "dt = 1e-3\n",
    "\n",
    "k = 1\n",
    "p = 1\n",
    "d = 3000\n",
    "gamma = .1\n",
    "alpha = gamma / p\n",
    "T = .01\n",
    "disable_QM_save=True\n",
    "icid = 9\n",
    "\n",
    "ic_string = 'randinint_{icid}'.format(icid=icid)\n",
    "\n",
    "ics = RandomNormalInitialConditions(p, k, d, seed = icid, spherical=True)\n",
    "exit_times_sde = expected_exit_time(\n",
    "    SphericalGeneralizedPhaseRetrievalSDE,\n",
    "    gamma = gamma,\n",
    "    gamma_over_p = gamma/p,\n",
    "    noise = noise,\n",
    "    ic = ics,\n",
    "    T = T,\n",
    "    log_time = log_time,\n",
    "    dt = dt,\n",
    "    activation='square',\n",
    "    path='computation-database/time-measure/sde/',\n",
    "    save_per_decade = save_per_decade,\n",
    "    ids = n_ids,\n",
    "    icid = ic_string,\n",
    "    disable_QM_save= disable_QM_save,\n",
    "    # allow_missing=True,\n",
    "    quadratic_terms=True,\n",
    "    xor_seed=icid,\n",
    "    noise_term = True\n",
    ")\n",
    "\n",
    "\n",
    "exit_times_sim = expected_exit_time(\n",
    "    NormalizedSphericalConstraintSimulation,\n",
    "    gamma = gamma,\n",
    "    noise = noise,\n",
    "    ic = ics,\n",
    "    T = T,\n",
    "    log_time = log_time,\n",
    "    activation='square',\n",
    "    path='computation-database/time-measure/sim/',\n",
    "    save_per_decade = save_per_decade,\n",
    "    ids = n_ids,\n",
    "    icid = ic_string,\n",
    "    disable_QM_save= disable_QM_save,\n",
    "    xor_seed=icid,\n",
    ")\n",
    "\n",
    "ode = SphericalSquaredActivationODE(\n",
    "    P0 = ics.P, Q0=ics.Q, M0=ics.M,\n",
    "    dt=dt, noise_term=True, gamma_over_p=gamma/p, noise=noise,\n",
    "    quadratic_terms=True, disable_QM_save= disable_QM_save\n",
    ")\n",
    "oder = FullODEResult(\n",
    "    initial_condition='time-measure'+'ODE'+ic_string,\n",
    "    id = 0\n",
    ")\n",
    "oder.from_file_or_run(\n",
    "    ode,\n",
    "    decades = log_time,\n",
    "    path='computation-database_pd/time-measure/ode/',\n",
    "    show_progress=True\n",
    ")\n",
    "\n",
    "et_ode = exit_time(\n",
    "    np.array(oder.times),\n",
    "    np.array(oder.risks),\n",
    "    T\n",
    ")\n",
    "\n",
    "et_sde, et_sde_err = exit_times_sde\n",
    "et_sim, et_sim_err = exit_times_sim"
   ]
  },
  {
   "cell_type": "code",
   "execution_count": 18,
   "metadata": {},
   "outputs": [
    {
     "name": "stdout",
     "output_type": "stream",
     "text": [
      "Exit time masured from simulations is 1.327±0.252\n",
      "Exit time masured from SDEs is 0.942±0.095\n",
      "Exit time measured from ODE is 1.091\n"
     ]
    }
   ],
   "source": [
    "print(f'Exit time masured from simulations is {et_sim:.3f}±{et_sim_err/np.sqrt(n_ids):.3f}')\n",
    "print(f'Exit time masured from SDEs is {et_sde:.3f}±{et_sde_err/np.sqrt(n_ids):.3f}')\n",
    "print(f'Exit time measured from ODE is {et_ode:.3f}')"
   ]
  }
 ],
 "metadata": {
  "kernelspec": {
   "display_name": "Python 3.7.14 ('venv': venv)",
   "language": "python",
   "name": "python3"
  },
  "language_info": {
   "codemirror_mode": {
    "name": "ipython",
    "version": 3
   },
   "file_extension": ".py",
   "mimetype": "text/x-python",
   "name": "python",
   "nbconvert_exporter": "python",
   "pygments_lexer": "ipython3",
   "version": "3.11.2"
  },
  "orig_nbformat": 4,
  "vscode": {
   "interpreter": {
    "hash": "9a0e4a0cf6e526d27f2af1ddb40cdc6ec3e24a1bb14fd69d9356653ab4a786b8"
   }
  }
 },
 "nbformat": 4,
 "nbformat_minor": 2
}
